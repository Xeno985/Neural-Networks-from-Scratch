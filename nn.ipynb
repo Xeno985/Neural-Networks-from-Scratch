{
 "cells": [
  {
   "cell_type": "code",
   "execution_count": 3,
   "metadata": {},
   "outputs": [],
   "source": [
    "import numpy as np"
   ]
  },
  {
   "cell_type": "markdown",
   "metadata": {},
   "source": [
    "Alright lets get some basics going\n"
   ]
  },
  {
   "cell_type": "code",
   "execution_count": 4,
   "metadata": {},
   "outputs": [
    {
     "data": {
      "text/plain": [
       "array([4, 5, 2, 5])"
      ]
     },
     "execution_count": 4,
     "metadata": {},
     "output_type": "execute_result"
    }
   ],
   "source": [
    "architecture=np.random.randint(np.random.randint(1,2),np.random.randint(2,10),np.random.randint(3,8))\n",
    "numlayer=len(architecture)\n",
    "architecture"
   ]
  },
  {
   "cell_type": "code",
   "execution_count": 5,
   "metadata": {},
   "outputs": [
    {
     "data": {
      "text/plain": [
       "array([ 0.85736713, -0.77751988,  0.13371797, -0.47003173])"
      ]
     },
     "execution_count": 5,
     "metadata": {},
     "output_type": "execute_result"
    }
   ],
   "source": [
    "input=np.random.randn(architecture[0])\n",
    "input"
   ]
  },
  {
   "cell_type": "code",
   "execution_count": 6,
   "metadata": {},
   "outputs": [
    {
     "data": {
      "text/plain": [
       "[array([[ 1.15497344,  1.98705459, -0.28013643,  1.29088643],\n",
       "        [-2.62649307,  0.05184967,  0.36980903,  0.0851527 ],\n",
       "        [ 1.48334935,  0.86636424, -1.58733794,  0.32361609],\n",
       "        [ 1.65792923, -0.5754542 , -0.20447966,  1.41190645],\n",
       "        [-1.78963225,  0.9370594 ,  0.7145352 , -1.36868756]]),\n",
       " array([[ 0.37127801, -1.38256653, -0.75980039, -0.74027412,  0.33147945],\n",
       "        [ 1.0430414 ,  1.96844427, -0.01063132, -0.79719881,  0.1169308 ]]),\n",
       " array([[ 0.45865264,  0.32804725],\n",
       "        [-1.04245767, -0.54894925],\n",
       "        [ 0.97860477,  0.44174125],\n",
       "        [ 0.96744128, -0.74759844],\n",
       "        [ 1.17652017,  1.50841352]])]"
      ]
     },
     "execution_count": 6,
     "metadata": {},
     "output_type": "execute_result"
    }
   ],
   "source": [
    "def genweights(architecture):\n",
    "    W=[]\n",
    "    for i in range(1,len(architecture)):\n",
    "        W.append(np.random.randn(architecture[i],architecture[i-1]))\n",
    "\n",
    "    return W\n",
    "\n",
    "Weight=genweights(architecture)\n",
    "Weight"
   ]
  },
  {
   "cell_type": "code",
   "execution_count": 7,
   "metadata": {},
   "outputs": [
    {
     "data": {
      "text/plain": [
       "[array([ 0.81083484, -1.44280168,  1.88566304, -0.14977054, -0.64291363]),\n",
       " array([-0.68075195,  0.2835621 ]),\n",
       " array([-0.78880952,  0.08023699,  1.92371125, -0.8949418 , -0.10836262])]"
      ]
     },
     "execution_count": 7,
     "metadata": {},
     "output_type": "execute_result"
    }
   ],
   "source": [
    "def genbias(architecture):\n",
    "    B=[]\n",
    "    for i in range(1,len(architecture)):\n",
    "        B.append(np.random.randn(architecture[i]))\n",
    "    return B\n",
    "\n",
    "Biases=genbias(architecture)\n",
    "Biases"
   ]
  },
  {
   "cell_type": "code",
   "execution_count": 8,
   "metadata": {},
   "outputs": [],
   "source": [
    "def sigmoid(x):\n",
    "    return 1/(1+np.exp(-x))"
   ]
  },
  {
   "cell_type": "code",
   "execution_count": 9,
   "metadata": {},
   "outputs": [],
   "source": [
    "def sigmoidlist(array):\n",
    "    b=[]\n",
    "    for i in range(len(array)):\n",
    "        b.append(sigmoid(array[i]))\n",
    "    \n",
    "    return b\n",
    "\n",
    "\n"
   ]
  },
  {
   "cell_type": "code",
   "execution_count": 10,
   "metadata": {},
   "outputs": [],
   "source": [
    "A=[]\n",
    "Z=[]"
   ]
  },
  {
   "cell_type": "code",
   "execution_count": 11,
   "metadata": {},
   "outputs": [],
   "source": [
    "def forward(input,architecture,A,Z):\n",
    "    Z.append(np.dot(Weight[0],input.T)+Biases[0])\n",
    "    l=architecture[1]\n",
    "    A.append(sigmoidlist(Z))\n",
    "    for i in range(1,numlayer-1):\n",
    "        Z.append(np.dot(A[i-1],np.transpose(Weight[i]))+Biases[i])\n",
    "        A.append(sigmoidlist(Z[-1]))\n",
    "    \n"
   ]
  },
  {
   "cell_type": "code",
   "execution_count": 12,
   "metadata": {},
   "outputs": [],
   "source": [
    "forward(input,architecture,A,Z)\n"
   ]
  },
  {
   "cell_type": "code",
   "execution_count": 13,
   "metadata": {},
   "outputs": [
    {
     "data": {
      "text/plain": [
       "[[array([0.40416991, 0.0235325 , 0.89277998, 0.73655264, 0.10275375])],\n",
       " [array([0.14770037, 0.5416024 ])],\n",
       " [array([0.36739813, 0.40828814, 0.90949626, 0.23922166, 0.70731315])]]"
      ]
     },
     "execution_count": 13,
     "metadata": {},
     "output_type": "execute_result"
    }
   ],
   "source": [
    "A"
   ]
  },
  {
   "cell_type": "code",
   "execution_count": 14,
   "metadata": {},
   "outputs": [
    {
     "data": {
      "text/plain": [
       "[array([-0.3881202 , -3.72555901,  2.11945716,  1.02812714, -2.16699503]),\n",
       " array([[-1.75275248,  0.16679523]]),\n",
       " array([[-0.54339518, -0.37104663,  2.30749965, -1.15695147,  0.88237022]])]"
      ]
     },
     "execution_count": 14,
     "metadata": {},
     "output_type": "execute_result"
    }
   ],
   "source": [
    "Z"
   ]
  },
  {
   "cell_type": "code",
   "execution_count": 15,
   "metadata": {},
   "outputs": [],
   "source": [
    "def cost_of_neuron(target,output):\n",
    "    cost =((target-output)**2)/2\n",
    "    return cost"
   ]
  },
  {
   "cell_type": "code",
   "execution_count": 16,
   "metadata": {},
   "outputs": [],
   "source": [
    "def cost_of_network(target,output):\n",
    "    cost=0\n",
    "    l=len(target)\n",
    "    for i in range(l):\n",
    "        cost+=((target[i]-output[i])**2)/2\n",
    "    return cost\n"
   ]
  },
  {
   "cell_type": "code",
   "execution_count": 17,
   "metadata": {},
   "outputs": [],
   "source": [
    "def loss(cost_network,length):\n",
    "    if length==1:\n",
    "        loss=cost_network\n",
    "    else:\n",
    "        loss=cost_network/len\n",
    "\n",
    "    return loss\n",
    "    \n"
   ]
  },
  {
   "cell_type": "code",
   "execution_count": 18,
   "metadata": {},
   "outputs": [],
   "source": [
    "def gradA(target,A,layer):\n",
    "    dA=[]\n",
    "    for i in range(len(A[layer])):\n",
    "     dA.append(A[layer][i]-target[i])\n",
    "    return dA\n"
   ]
  },
  {
   "cell_type": "code",
   "execution_count": 19,
   "metadata": {},
   "outputs": [],
   "source": [
    "def gradZ(gradA,Z,A,layer):\n",
    "    dZ=[]\n",
    "    for i in range(len(Z)):\n",
    "        dZ.append(gradA[i]*A[layer][i]*(1/np.exp(Z[layer][i])+1))\n",
    "    return dZ"
   ]
  },
  {
   "cell_type": "code",
   "execution_count": 20,
   "metadata": {},
   "outputs": [],
   "source": [
    "def gradB(gradZ):\n",
    "    return gradZ"
   ]
  },
  {
   "cell_type": "code",
   "execution_count": 21,
   "metadata": {},
   "outputs": [],
   "source": [
    "def gradA_1(gradZ,Weight,layer):\n",
    "    return np.multiply(gradZ,Weight[layer])"
   ]
  },
  {
   "cell_type": "code",
   "execution_count": 22,
   "metadata": {},
   "outputs": [],
   "source": [
    "def gradW(gradZ,A,layer):\n",
    "    return np.multiply(np.transpose(gradZ),A[layer-1])\n",
    "    "
   ]
  },
  {
   "cell_type": "code",
   "execution_count": 23,
   "metadata": {},
   "outputs": [],
   "source": [
    "class Network:\n",
    "    pass\n"
   ]
  }
 ],
 "metadata": {
  "kernelspec": {
   "display_name": "Python 3",
   "language": "python",
   "name": "python3"
  },
  "language_info": {
   "codemirror_mode": {
    "name": "ipython",
    "version": 3
   },
   "file_extension": ".py",
   "mimetype": "text/x-python",
   "name": "python",
   "nbconvert_exporter": "python",
   "pygments_lexer": "ipython3",
   "version": "3.11.9"
  }
 },
 "nbformat": 4,
 "nbformat_minor": 2
}

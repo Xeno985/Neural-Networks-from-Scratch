{
 "cells": [
  {
   "cell_type": "code",
   "execution_count": 2,
   "metadata": {},
   "outputs": [],
   "source": [
    "import numpy as np"
   ]
  },
  {
   "cell_type": "code",
   "execution_count": 3,
   "metadata": {},
   "outputs": [],
   "source": [
    "def sigmoid(x):\n",
    "    return 1/(1+np.exp(-x))"
   ]
  },
  {
   "cell_type": "code",
   "execution_count": 4,
   "metadata": {},
   "outputs": [],
   "source": [
    "class layer:\n",
    "    \n",
    "    def __init__(self,inputs):\n",
    "        \n",
    "        self.layers = inputs\n",
    "        self.input = None\n",
    "        self.output = None\n",
    "\n",
    "    def forward(self,inputs):\n",
    "        raise NotImplementedError\n",
    "    def backward():\n",
    "        raise NotImplementedError"
   ]
  },
  {
   "cell_type": "code",
   "execution_count": 5,
   "metadata": {},
   "outputs": [],
   "source": [
    "def derv_sigma(x):\n",
    "        return sigmoid(x)*(1-sigmoid(x))"
   ]
  },
  {
   "cell_type": "code",
   "execution_count": 6,
   "metadata": {},
   "outputs": [],
   "source": [
    "class sigmoid(layer):\n",
    "    \n",
    "    def __init__(self,i):\n",
    "        pass\n",
    "    def forward(self,input_f):\n",
    "        self.input=input_f\n",
    "        return sigmoid(input_f)\n",
    "    def backward(self,input_b):\n",
    "        return input_b*derv_sigma(self.input)"
   ]
  },
  {
   "cell_type": "code",
   "execution_count": 16,
   "metadata": {},
   "outputs": [],
   "source": [
    "def genweight(i,j):\n",
    "    return np.random.rand(j,i)\n",
    "def genbias(j):\n",
    "    return np.random.rand(1,j)\n",
    "global learning_rate \n",
    "learning_rate= 0.01"
   ]
  },
  {
   "cell_type": "code",
   "execution_count": 8,
   "metadata": {},
   "outputs": [],
   "source": [
    "class dense(layer):\n",
    "  \n",
    "    def __init__(self,i,j):\n",
    "        self.W=genweight(i,j)\n",
    "        self.B=genbias(j)\n",
    "    \n",
    "    def forward(self,input_f):\n",
    "        self.input=input_f\n",
    "        return np.dot(self.W,input_f)+self.B\n",
    "    \n",
    "    def backward(input_b,self):\n",
    "        out=input_b*self.W #input gradient\n",
    "        weight_gradient=np.dot(input_b, self.input.T)\n",
    "        self.W-=learning_rate*weight_gradient\n",
    "        self.B-=learning_rate*input_b\n",
    "        return out"
   ]
  },
  {
   "cell_type": "code",
   "execution_count": 10,
   "metadata": {},
   "outputs": [],
   "source": [
    "class Quadloss():\n",
    "    \n",
    "    def loss(desired_output,nn_output):\n",
    "        ans = ((desired_output - nn_output)**2)\n",
    "        return ans\n",
    "       \n",
    "    def grad_loss(desired_output,nn_output):\n",
    "        ans=(desired_output-nn_output)\n",
    "\n",
    "        return ans"
   ]
  },
  {
   "cell_type": "code",
   "execution_count": 12,
   "metadata": {},
   "outputs": [],
   "source": [
    "class ReLU(layer):\n",
    "      def forward(self, inputs):\n",
    "        self.inputs = inputs\n",
    "        self.output = np.maximum(0, inputs)\n",
    "        return self.output\n",
    "      def backward(self, dvalues):\n",
    "       \n",
    "        self.dinputs = dvalues.copy()\n",
    "\n",
    "        self.dinputs[self.inputs <= 0] = 0\n",
    "        return self.dinputs"
   ]
  },
  {
   "cell_type": "code",
   "execution_count": 17,
   "metadata": {},
   "outputs": [],
   "source": [
    "class sequential():\n",
    "   \n",
    "    def __init__(self,arch,loss_fn):\n",
    "        self.architecture=arch        \n",
    "        self.Loss_func=loss_fn\n",
    "        \n",
    "    def predict(self, input):\n",
    "        output = input\n",
    "        for layer in self.architecture:\n",
    "            output = layer.forward(output)\n",
    "        return output\n",
    "    \n",
    "    def train(self, x_train, y_train, epochs = 1000, verbose = True):\n",
    "        for e in range(epochs):\n",
    "            error = 0\n",
    "            for x, y in zip(x_train, y_train):\n",
    "            \n",
    "                output = self.predict(self.architecture, x)\n",
    "\n",
    "            \n",
    "                error += self.Loss_func.loss(y, output)\n",
    "\n",
    "            \n",
    "                grad = self.Loss_func.grad_loss(y, output)\n",
    "                for layer in reversed(self.architecture):\n",
    "                    grad = layer.backward(grad)\n",
    "\n",
    "            error /= len(x_train)\n",
    "        if verbose:\n",
    "            print(f\"{e + 1}/{epochs}, error={error}\")# see progress"
   ]
  }
 ],
 "metadata": {
  "kernelspec": {
   "display_name": "base",
   "language": "python",
   "name": "python3"
  },
  "language_info": {
   "codemirror_mode": {
    "name": "ipython",
    "version": 3
   },
   "file_extension": ".py",
   "mimetype": "text/x-python",
   "name": "python",
   "nbconvert_exporter": "python",
   "pygments_lexer": "ipython3",
   "version": "3.11.7"
  }
 },
 "nbformat": 4,
 "nbformat_minor": 2
}
